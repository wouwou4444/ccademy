{
 "cells": [
  {
   "cell_type": "markdown",
   "metadata": {},
   "source": [
    "# pizza restaurant"
   ]
  },
  {
   "cell_type": "code",
   "execution_count": 2,
   "metadata": {},
   "outputs": [
    {
     "name": "stdout",
     "output_type": "stream",
     "text": [
      "7\n",
      "We sell 7 different kinds of pizza!\n",
      "[(2, 'pepperoni'), (6, 'pineapple'), (1, 'cheese'), (3, 'sausage'), (2, 'olive'), (7, 'anchovies'), (2, 'mushrooms')]\n",
      "[(1, 'cheese'), (2, 'mushrooms'), (2, 'olive'), (2, 'pepperoni'), (3, 'sausage'), (6, 'pineapple'), (7, 'anchovies')]\n",
      "[(1, 'cheese'), (2, 'mushrooms'), (2, 'olive')]\n",
      "3\n"
     ]
    }
   ],
   "source": [
    "toppings = [ \"pepperoni\", \"pineapple\", \"cheese\", \"sausage\", \"olive\", \"anchovies\", \"mushrooms\"]\n",
    "\n",
    "prices = [2, 6, 1, 3, 2, 7, 2]\n",
    "\n",
    "num_pizzas = len(toppings)\n",
    "print(num_pizzas)\n",
    "\n",
    "print(\"We sell {} different kinds of pizza!\".format(num_pizzas))\n",
    "\n",
    "pizzas = (list(zip(prices, toppings)))\n",
    "print(pizzas)\n",
    "\n",
    "pizzas.sort()\n",
    "print(pizzas)\n",
    "cheapest_pizza = pizzas[0]\n",
    "priciest_pizza = pizzas[-1]\n",
    "\n",
    "three_cheapest = pizzas[0:3]\n",
    "print(three_cheapest)\n",
    "\n",
    "num_two_dollar_slices = prices.count(2)\n",
    "\n",
    "print(num_two_dollar_slices)\n",
    "\n",
    "cheapest_pizza = pizzas[0]\n"
   ]
  },
  {
   "cell_type": "code",
   "execution_count": 3,
   "metadata": {},
   "outputs": [
    {
     "name": "stdout",
     "output_type": "stream",
     "text": [
      "[(7, 'anchovies'), (1, 'cheese'), (2, 'mushrooms'), (2, 'olive'), (2, 'pepperoni'), (6, 'pineapple'), (3, 'sausage')]\n"
     ]
    }
   ],
   "source": [
    "pizzas.sort(key= lambda x:x[1])\n",
    "print(pizzas)"
   ]
  },
  {
   "cell_type": "code",
   "execution_count": null,
   "metadata": {},
   "outputs": [],
   "source": []
  }
 ],
 "metadata": {
  "kernelspec": {
   "display_name": "Python 3",
   "language": "python",
   "name": "python3"
  },
  "language_info": {
   "codemirror_mode": {
    "name": "ipython",
    "version": 3
   },
   "file_extension": ".py",
   "mimetype": "text/x-python",
   "name": "python",
   "nbconvert_exporter": "python",
   "pygments_lexer": "ipython3",
   "version": "3.7.3"
  }
 },
 "nbformat": 4,
 "nbformat_minor": 2
}
